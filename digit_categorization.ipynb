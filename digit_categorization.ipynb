{
  "nbformat": 4,
  "nbformat_minor": 0,
  "metadata": {
    "colab": {
      "name": "Untitled2.ipynb",
      "provenance": [],
      "toc_visible": true,
      "authorship_tag": "ABX9TyN/tsORB7FWHICXQjt/WqvT",
      "include_colab_link": true
    },
    "kernelspec": {
      "name": "python3",
      "display_name": "Python 3"
    }
  },
  "cells": [
    {
      "cell_type": "markdown",
      "metadata": {
        "id": "view-in-github",
        "colab_type": "text"
      },
      "source": [
        "<a href=\"https://colab.research.google.com/github/tobiasschlagenhaufer/colab/blob/main/digit_categorization.ipynb\" target=\"_parent\"><img src=\"https://colab.research.google.com/assets/colab-badge.svg\" alt=\"Open In Colab\"/></a>"
      ]
    },
    {
      "cell_type": "code",
      "metadata": {
        "id": "16qmLNWV0NWp"
      },
      "source": [
        "import tensorflow as tf\r\n",
        "from tensorflow import keras\r\n",
        "import matplotlib.pyplot as plt\r\n",
        "import numpy as np"
      ],
      "execution_count": 2,
      "outputs": []
    },
    {
      "cell_type": "code",
      "metadata": {
        "id": "seApdiCi0nUJ"
      },
      "source": [
        "(X_train, y_train), (X_test, y_test) = keras.datasets.mnist.load_data()"
      ],
      "execution_count": null,
      "outputs": []
    },
    {
      "cell_type": "code",
      "metadata": {
        "id": "qA51hH7rBzkl"
      },
      "source": [
        "# scale value from 0-255 to 0-1\r\n",
        "#   increased accuracy from 88% to 92%!!\r\n",
        "X_train = X_train / 255\r\n",
        "X_test = X_test / 255"
      ],
      "execution_count": 4,
      "outputs": []
    },
    {
      "cell_type": "code",
      "metadata": {
        "id": "QSj6Rc9Y0-7P"
      },
      "source": [
        "# 2 dimensional pixel/darkness representation of image\r\n",
        "X_train[0]"
      ],
      "execution_count": null,
      "outputs": []
    },
    {
      "cell_type": "code",
      "metadata": {
        "colab": {
          "base_uri": "https://localhost:8080/",
          "height": 293
        },
        "id": "ygVY7C2x1maY",
        "outputId": "d56b7bbe-2f1a-4b16-98aa-da8dd98ed540"
      },
      "source": [
        "plt.matshow(X_train[0])"
      ],
      "execution_count": 6,
      "outputs": [
        {
          "output_type": "execute_result",
          "data": {
            "text/plain": [
              "<matplotlib.image.AxesImage at 0x7fcdbb8f7cf8>"
            ]
          },
          "metadata": {
            "tags": []
          },
          "execution_count": 6
        },
        {
          "output_type": "display_data",
          "data": {
            "image/png": "[encoded data removed]",
            "text/plain": [
              "<Figure size 288x288 with 1 Axes>"
            ]
          },
          "metadata": {
            "tags": [],
            "needs_background": "light"
          }
        }
      ]
    },
    {
      "cell_type": "code",
      "metadata": {
        "colab": {
          "base_uri": "https://localhost:8080/"
        },
        "id": "z4csRkW26BlE",
        "outputId": "ccd16855-e5f2-4b4b-c999-370c12884824"
      },
      "source": [
        "y_train[0]"
      ],
      "execution_count": 7,
      "outputs": [
        {
          "output_type": "execute_result",
          "data": {
            "text/plain": [
              "5"
            ]
          },
          "metadata": {
            "tags": []
          },
          "execution_count": 7
        }
      ]
    },
    {
      "cell_type": "code",
      "metadata": {
        "id": "q3VazKxG6FOW"
      },
      "source": [
        "# reshape each image into 1 dimension for neural network\r\n",
        "X_train_flat = X_train.reshape(len(X_train), 28*28)\r\n",
        "X_test_flat = X_test.reshape(len(X_test), 28*28)"
      ],
      "execution_count": 8,
      "outputs": []
    },
    {
      "cell_type": "code",
      "metadata": {
        "id": "3BIaZFZ47i_G"
      },
      "source": [
        "# define neural network\r\n",
        "#   Dense: every neuron is connected to every other neuron\r\n",
        "#   input_shape: the size of our input images (28*28)\r\n",
        "#   output_shape: size of categories; 10 digits\r\n",
        "#   sigmoid: s-shaped curve that will return a value between 0 and 1\r\n",
        "model = keras.Sequential([\r\n",
        "  keras.layers.Dense(10, input_shape=((28*28),), activation=\"sigmoid\")\r\n",
        "])"
      ],
      "execution_count": 9,
      "outputs": []
    },
    {
      "cell_type": "code",
      "metadata": {
        "id": "8RdSQWN-AWsE"
      },
      "source": [
        "# sparse_categorical_crossentropy: not too sure on this, but used for loss where one-hot encoding isn't used, Y is an integer\r\n",
        "model.compile(loss='sparse_categorical_crossentropy', metrics=[\"accuracy\"])"
      ],
      "execution_count": 10,
      "outputs": []
    },
    {
      "cell_type": "code",
      "metadata": {
        "colab": {
          "base_uri": "https://localhost:8080/"
        },
        "id": "OXm-7jeP_Gx_",
        "outputId": "84b076f3-43a9-4e12-ac95-1bebf693f53c"
      },
      "source": [
        "# train the model to fit our training data\r\n",
        "#   epochs: number of hidden layers - for me not much change after 2\r\n",
        "model.fit(X_train_flat, y_train, epochs=3)"
      ],
      "execution_count": 11,
      "outputs": [
        {
          "output_type": "stream",
          "text": [
            "Epoch 1/3\n",
            "1875/1875 [==============================] - 3s 1ms/step - loss: 0.6663 - accuracy: 0.8290\n",
            "Epoch 2/3\n",
            "1875/1875 [==============================] - 2s 1ms/step - loss: 0.3059 - accuracy: 0.9147\n",
            "Epoch 3/3\n",
            "1875/1875 [==============================] - 2s 1ms/step - loss: 0.2869 - accuracy: 0.9207\n"
          ],
          "name": "stdout"
        },
        {
          "output_type": "execute_result",
          "data": {
            "text/plain": [
              "<tensorflow.python.keras.callbacks.History at 0x7fcdb74c40b8>"
            ]
          },
          "metadata": {
            "tags": []
          },
          "execution_count": 11
        }
      ]
    },
    {
      "cell_type": "code",
      "metadata": {
        "colab": {
          "base_uri": "https://localhost:8080/"
        },
        "id": "mriTT2Q8A4Jf",
        "outputId": "19e3b00a-15cc-4208-cf83-b4c93f3615da"
      },
      "source": [
        "# try on our test data\r\n",
        "model.evaluate(X_test_flat, y_test)"
      ],
      "execution_count": 12,
      "outputs": [
        {
          "output_type": "stream",
          "text": [
            "313/313 [==============================] - 0s 946us/step - loss: 0.2820 - accuracy: 0.9235\n"
          ],
          "name": "stdout"
        },
        {
          "output_type": "execute_result",
          "data": {
            "text/plain": [
              "[0.2819559574127197, 0.9235000014305115]"
            ]
          },
          "metadata": {
            "tags": []
          },
          "execution_count": 12
        }
      ]
    },
    {
      "cell_type": "code",
      "metadata": {
        "id": "b6yNT-QzEywp"
      },
      "source": [
        "# what image to test for?\r\n",
        "x = 2"
      ],
      "execution_count": 13,
      "outputs": []
    },
    {
      "cell_type": "code",
      "metadata": {
        "id": "UDliCKkBDS5c"
      },
      "source": [
        "# make predictions \r\n",
        "y_pred = model.predict(X_test_flat)\r\n",
        "\r\n",
        "plt.matshow(X_test[x])\r\n",
        "for i in range(10):\r\n",
        "  print(f\"{i}: score = {y_pred[x][i]}\")\r\n",
        "print(\"Best: \", np.argmax(y_pred[x]))"
      ],
      "execution_count": null,
      "outputs": []
    },
    {
      "cell_type": "code",
      "metadata": {
        "colab": {
          "base_uri": "https://localhost:8080/",
          "height": 283
        },
        "id": "x4uGzWhyGH57",
        "outputId": "75fe45ba-3b28-4d51-d839-1566407412cc"
      },
      "source": [
        "# confusion matrix\r\n",
        "#   this will give a visual on how well the model performed\r\n",
        "\r\n",
        "predicted = [np.argmax(x) for x in y_pred]\r\n",
        "confusion = tf.math.confusion_matrix(labels=y_test, predictions=predicted)\r\n",
        "import seaborn as sn\r\n",
        "sn.heatmap(confusion, annot=True, fmt=\"d\")"
      ],
      "execution_count": 15,
      "outputs": [
        {
          "output_type": "execute_result",
          "data": {
            "text/plain": [
              "<matplotlib.axes._subplots.AxesSubplot at 0x7fcdad309898>"
            ]
          },
          "metadata": {
            "tags": []
          },
          "execution_count": 15
        },
        {
          "output_type": "display_data",
          "data": {
            "image/png": "[encoded data removed]",
            "text/plain": [
              "<Figure size 432x288 with 2 Axes>"
            ]
          },
          "metadata": {
            "tags": [],
            "needs_background": "light"
          }
        }
      ]
    }
  ]
}